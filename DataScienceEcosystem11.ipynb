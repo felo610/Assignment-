#!/usr/bin/env python
# coding: utf-8

# ## Data Science Tools and Ecosystem

# In this notebook, Data Science Tools and Ecosystem are summarized.
# 

# **Objectives:**
# 
# - List popular languages for Data Science  
# - List commonly used libraries for Data Science  
# - Create and format Markdown cells in Jupyter Notebook  
# - Perform simple arithmetic operations in Python  
# - List common Data Science tools  

# Some of the popular languages that Data Scientists use are:
# (Python ,R ,SQL) 

# Some of the commonly used libraries used by Data Scientists include:
# (Pandas , ggplot , matplotlib , seaborn )

# | Data Science Tools |
# |--------------------|
# | Jupyter Notebook   |
# | RStudio            |
# | Apache Zeppelin    |
# 

# ### Below are a few examples of evaluating arithmetic expressions in Python.

# In[6]:


# This is a simple arithmetic expression to multiply then add integers
(3 * 4) + 5


# In[7]:


# This will convert 200 minutes to hours by diving by 60
(200 / 60)


# ## Author
# Felopater Said

# In[ ]:
